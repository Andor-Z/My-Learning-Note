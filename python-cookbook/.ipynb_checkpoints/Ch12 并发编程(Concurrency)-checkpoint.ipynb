{
 "cells": [
  {
   "cell_type": "markdown",
   "metadata": {},
   "source": [
    "# Ch12 并发编程(Concurrency)"
   ]
  },
  {
   "cell_type": "code",
   "execution_count": 9,
   "metadata": {
    "collapsed": false
   },
   "outputs": [
    {
     "name": "stdout",
     "output_type": "stream",
     "text": [
      "T - minus 10\n",
      "T - minus 9\n",
      "T - minus 8\n",
      "T - minus 7\n",
      "T - minus 6\n",
      "T - minus 5\n",
      "T - minus 4\n",
      "T - minus 3\n",
      "T - minus 2\n",
      "T - minus 1\n"
     ]
    }
   ],
   "source": [
    "import time\n",
    "def countdown(n):\n",
    "    while n > 0:\n",
    "        print('T - minus', n)\n",
    "        n -=  1\n",
    "        time.sleep(5)\n",
    "        \n",
    "from threading import Thread\n",
    "t = Thread(target=countdown, args=(10, ), daemon=True)\n",
    "t.start()"
   ]
  },
  {
   "cell_type": "code",
   "execution_count": 8,
   "metadata": {
    "collapsed": false
   },
   "outputs": [
    {
     "name": "stdout",
     "output_type": "stream",
     "text": [
      "Still runing\n",
      "T - minus 7\n",
      "T - minus 6\n",
      "T - minus 5\n",
      "T - minus 4\n",
      "T - minus 3\n",
      "T - minus 2\n",
      "T - minus 1\n"
     ]
    }
   ],
   "source": [
    "if t.is_alive():\n",
    "    print('Still runing')\n",
    "else:\n",
    "    print('Completed')"
   ]
  },
  {
   "cell_type": "code",
   "execution_count": 15,
   "metadata": {
    "collapsed": false
   },
   "outputs": [
    {
     "name": "stdout",
     "output_type": "stream",
     "text": [
      "T-minus 10\n",
      "T-minus 9\n",
      "T-minus 8\n",
      "T-minus 7\n"
     ]
    }
   ],
   "source": [
    "class CountdownTask:\n",
    "    def __init__(self):\n",
    "        self._running = True\n",
    "        \n",
    "    def terminate(self):\n",
    "        self._running = False\n",
    "        \n",
    "    def run(self, n):\n",
    "        while self._running and n > 0:\n",
    "            print('T-minus', n)\n",
    "            n -= 1\n",
    "            time.sleep(5)\n",
    "            \n",
    "c = CountdownTask()\n",
    "t = Thread(target=c.run, args=(10, ))\n",
    "t.start()\n",
    "#c.terminate()\n",
    "# t.join()"
   ]
  },
  {
   "cell_type": "code",
   "execution_count": 17,
   "metadata": {
    "collapsed": true
   },
   "outputs": [],
   "source": [
    "t.join()"
   ]
  },
  {
   "cell_type": "code",
   "execution_count": 18,
   "metadata": {
    "collapsed": true
   },
   "outputs": [],
   "source": [
    "class IOTask:\n",
    "    def terminate(self):\n",
    "        self_running = Flase\n",
    "        \n",
    "    def run(self, sock):\n",
    "        sock.settimeout(5)\n",
    "        while self._running:\n",
    "            try:\n",
    "                data = sock.recv(8192)\n",
    "                break\n",
    "            except socket.timeout:\n",
    "                continue\n",
    "                "
   ]
  },
  {
   "cell_type": "code",
   "execution_count": 19,
   "metadata": {
    "collapsed": true
   },
   "outputs": [],
   "source": [
    "from threading import Thread\n",
    "\n",
    "class CountdownThread(Thread):\n",
    "    def __init__(self, n):\n",
    "        super().__init__()\n",
    "        self.n = 0\n",
    "    def run(self):\n",
    "        while self.n > 0:\n",
    "\n",
    "            print('T-minus', self.n)\n",
    "            self.n -= 1\n",
    "            time.sleep(5)\n",
    "\n",
    "c = CountdownThread(5)\n",
    "c.start()"
   ]
  },
  {
   "cell_type": "code",
   "execution_count": 23,
   "metadata": {
    "collapsed": false
   },
   "outputs": [
    {
     "name": "stdout",
     "output_type": "stream",
     "text": [
      "Launching countdown\n",
      "countdown starting\n",
      "T-minus 10\n",
      "countdown is running\n",
      "T-minus 9\n",
      "T-minus 8\n",
      "T-minus 7\n",
      "T-minus 6\n",
      "T-minus 5\n",
      "T-minus 4\n",
      "T-minus 3\n",
      "T-minus 2\n",
      "T-minus 1\n"
     ]
    }
   ],
   "source": [
    "from threading import Thread, Event\n",
    "import time\n",
    "\n",
    "def countdown(n, started_evt):\n",
    "    print('countdown starting')\n",
    "    started_evt.set()\n",
    "    while n > 0:\n",
    "        print('T-minus', n)\n",
    "        n -= 1\n",
    "        time.sleep(3)\n",
    "        \n",
    "started_evt = Event()\n",
    "\n",
    "print('Launching countdown')\n",
    "t = Thread(target=countdown, args=(10, started_evt))\n",
    "t.start()\n",
    "started_evt.wait()\n",
    "print('countdown is running')"
   ]
  },
  {
   "cell_type": "markdown",
   "metadata": {},
   "source": [
    "[理解Python中的线程](http://python.jobbole.com/85287/)"
   ]
  },
  {
   "cell_type": "code",
   "execution_count": 34,
   "metadata": {
    "collapsed": false
   },
   "outputs": [
    {
     "name": "stdout",
     "output_type": "stream",
     "text": [
      "http://www.baidu.com\n",
      "200\n",
      "http://v3.bootcss.com/\n",
      "200\n",
      "http://www.ebay.com\n",
      "200\n",
      "http://www.alibaba.com\n",
      "200\n",
      "http://www.codingpy.com/\n",
      "200\n",
      "Elapsed time: 2.4693312644958496\n"
     ]
    }
   ],
   "source": [
    "import time\n",
    "import urllib.request\n",
    "\n",
    "def get_responses():\n",
    "    urls = [\n",
    "       'http://www.baidu.com',\n",
    "        'http://v3.bootcss.com/',\n",
    "        'http://www.ebay.com',\n",
    "        'http://www.alibaba.com',\n",
    "        'http://www.codingpy.com/' \n",
    "    ]\n",
    "    start = time.time()\n",
    "    for url in urls:\n",
    "        print(url)\n",
    "        response = urllib.request.urlopen(url)\n",
    "        print(response.getcode())\n",
    "    print('Elapsed time: %s' %(time.time()-start))\n",
    "get_responses()"
   ]
  },
  {
   "cell_type": "code",
   "execution_count": 33,
   "metadata": {
    "collapsed": false
   },
   "outputs": [
    {
     "name": "stdout",
     "output_type": "stream",
     "text": [
      "http://www.baidu.com 200\n",
      "http://www.alibaba.com 200\n",
      "http://v3.bootcss.com/ 200\n",
      "http://www.codingpy.com/ 200\n",
      "http://www.ebay.com 200\n",
      "Elapsed time: 1.564070463180542\n"
     ]
    }
   ],
   "source": [
    "import time\n",
    "import urllib.request\n",
    "from threading import Thread\n",
    "\n",
    "class GetUrlThread(Thread):\n",
    "    def __init__(self, url):\n",
    "        self.url = url\n",
    "        super(GetUrlThread, self).__init__()\n",
    "        \n",
    "    def run(self):\n",
    "        resp = urllib.request.urlopen(self.url)\n",
    "        print(self.url, resp.getcode())\n",
    "        \n",
    "\n",
    "def get_responses():\n",
    "    urls = [\n",
    "       'http://www.baidu.com',\n",
    "        'http://v3.bootcss.com/',\n",
    "        'http://www.ebay.com',\n",
    "        'http://www.alibaba.com',\n",
    "        'http://www.codingpy.com/' \n",
    "    ]\n",
    "    start = time.time()\n",
    "    threads = []\n",
    "    for url in urls:\n",
    "        t = GetUrlThread(url)\n",
    "        threads.append(t)\n",
    "        t.start()\n",
    "    for t in threads:\n",
    "        t.join()\n",
    "    print('Elapsed time: %s' %(time.time()-start))\n",
    "get_responses()"
   ]
  },
  {
   "cell_type": "code",
   "execution_count": 18,
   "metadata": {
    "collapsed": false
   },
   "outputs": [
    {
     "name": "stdout",
     "output_type": "stream",
     "text": [
      "This is Thread-491 @ 0\n",
      "This is Thread-492 @ 0\n",
      "This is Thread-493 @ 0\n",
      "This is Thread-494 @ 0\n",
      "This is Thread-495 @ 0\n",
      "This is Thread-491 @ 1\n",
      "This is Thread-492 @ 1\n",
      "This is Thread-493 @ 1\n",
      "This is Thread-494 @ 1\n",
      "This is Thread-495 @ 1\n",
      "This is Thread-491 @ 2\n",
      "This is Thread-493 @ 2\n",
      "This is Thread-492 @ 2\n",
      "This is Thread-494 @ 2\n",
      "This is Thread-495 @ 2\n",
      "Ending Main threading\n"
     ]
    }
   ],
   "source": [
    "from threading import Thread\n",
    "import time\n",
    "\n",
    "class MyThread(Thread):\n",
    "    def run(self):\n",
    "        for i in range(3):\n",
    "            time.sleep(1)\n",
    "            print('This is %s @ %d' %(self.name, i))\n",
    "            \n",
    "            \n",
    "def test():\n",
    "    threads = []\n",
    "    for i in range(5):\n",
    "        t = MyThread()\n",
    "        threads.append(t)\n",
    "        t.start()\n",
    "    for t in threads:\n",
    "        t.join()\n",
    "    print('Ending Main threading')\n",
    "        \n",
    "test()"
   ]
  },
  {
   "cell_type": "code",
   "execution_count": 22,
   "metadata": {
    "collapsed": false
   },
   "outputs": [
    {
     "name": "stdout",
     "output_type": "stream",
     "text": [
      "some_var in Thread-607  is 1100some_var in Thread-608  is 1200\n",
      "some_var in Thread-606  is 1300\n",
      "\n",
      "some_var in Thread-611  is 1400\n",
      "some_var in Thread-610  is 1500\n",
      "some_var in Thread-609  is 1600\n",
      "some_var in Thread-613  is 1700\n",
      "some_var in Thread-612  is 1800\n",
      "some_var in Thread-614  is 1900\n",
      "some_var in Thread-615  is 2000\n",
      "After 50 modifications, some_var is 2000\n"
     ]
    }
   ],
   "source": [
    "from threading import Thread\n",
    "\n",
    "# some_var = 0\n",
    "class IncrementThread(Thread):\n",
    "    def run(self):\n",
    "        global some_var\n",
    "#         read_value = some_var\n",
    "#         print('some_var in %s is %d' %(self.name, read_value))\n",
    "        time.sleep(1)\n",
    "        read_value = some_var\n",
    "        for i in range(100):\n",
    "            some_var  += 1\n",
    "        \n",
    "#         print('read_var in %s is %d' %(self.name, read_value))\n",
    "        \n",
    "        print('some_var in %s  is %d' %(self.name, some_var))\n",
    "        \n",
    "def use_increment_thread():\n",
    "    threads = []\n",
    "    for i in range(10):\n",
    "        t = IncrementThread()\n",
    "        threads.append(t)\n",
    "        t.start()\n",
    "    for t in threads:\n",
    "        t.join()\n",
    "    print('After 50 modifications, some_var is %d' % (some_var,))\n",
    "use_increment_thread()"
   ]
  },
  {
   "cell_type": "code",
   "execution_count": 32,
   "metadata": {
    "collapsed": false
   },
   "outputs": [
    {
     "name": "stdout",
     "output_type": "stream",
     "text": [
      "[0, 1, 2, 3, 4, 5, 6, 7, 8, 9][0, 1, 2, 3, 4, 5, 6, 7, 8, 9]\n",
      "[0, 1, 2, 3, 4, 5, 6, 7, 8, 9]\n",
      "\n"
     ]
    }
   ],
   "source": [
    "from threading import Thread\n",
    "import time\n",
    "\n",
    "class CreateListThread(Thread):\n",
    "    def run(self):\n",
    "        self.entries = []\n",
    "        for i in range(10):\n",
    "            time.sleep(1)\n",
    "            self.entries.append(i)\n",
    "        print(self.entries)\n",
    "\n",
    "def use_create_list_thread():\n",
    "    for i in range(3):\n",
    "        t = CreateListThread()\n",
    "        t.start()\n",
    "\n",
    "use_create_list_thread()"
   ]
  },
  {
   "cell_type": "code",
   "execution_count": 34,
   "metadata": {
    "collapsed": false
   },
   "outputs": [
    {
     "name": "stdout",
     "output_type": "stream",
     "text": [
      "current thread:Thread-635\n",
      "haibo in Thread-635\n",
      "current thread:Thread-636\n",
      "lina in Thread-636\n"
     ]
    }
   ],
   "source": [
    "import threading\n",
    "local = threading.local()\n",
    "def func(name):\n",
    "    print('current thread:%s' % threading.currentThread().name)\n",
    "    local.name = name\n",
    "    print(\"%s in %s\" % (local.name,threading.currentThread().name))\n",
    "t1 = threading.Thread(target=func,args=('haibo',))\n",
    "t2 = threading.Thread(target=func,args=('lina',))\n",
    "t1.start()\n",
    "t2.start()\n",
    "t1.join()\n",
    "t2.join()"
   ]
  }
 ],
 "metadata": {
  "kernelspec": {
   "display_name": "Python 3",
   "language": "python",
   "name": "python3"
  },
  "language_info": {
   "codemirror_mode": {
    "name": "ipython",
    "version": 3
   },
   "file_extension": ".py",
   "mimetype": "text/x-python",
   "name": "python",
   "nbconvert_exporter": "python",
   "pygments_lexer": "ipython3",
   "version": "3.5.1"
  }
 },
 "nbformat": 4,
 "nbformat_minor": 0
}
