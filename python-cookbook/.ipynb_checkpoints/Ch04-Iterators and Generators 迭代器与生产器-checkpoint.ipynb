{
 "cells": [
  {
   "cell_type": "markdown",
   "metadata": {},
   "source": [
    "## 4.1 Manually Consuming an Iterator(手动遍历迭代器) \n",
    "       \n",
    "### Problem  \n",
    "You need to process items in an iterable, but for whatwever reason, you can't or don't want to use a for loop.  \n",
    "再不使用for循环的前提下，遍历一个可迭代对象中的所有元素。  \n",
    "### Solution  "
   ]
  },
  {
   "cell_type": "code",
   "execution_count": 7,
   "metadata": {
    "collapsed": false
   },
   "outputs": [],
   "source": [
    "def manual_iter():\n",
    "    with open('test') as f:\n",
    "        try:\n",
    "            while True:\n",
    "                line = next(f)\n",
    "                print(line, end='')\n",
    "        except StopIteration:\n",
    "            pass"
   ]
  },
  {
   "cell_type": "markdown",
   "metadata": {},
   "source": [
    "通常会使用 `StopIteration` 来指示迭代的结尾  \n",
    "但是如果是手动使用`next()`函数的话，可以用个返回一个指定值来标记结尾，比如`None`"
   ]
  },
  {
   "cell_type": "code",
   "execution_count": 12,
   "metadata": {
    "collapsed": true
   },
   "outputs": [],
   "source": [
    "with open('test') as f:\n",
    "    while True:\n",
    "        line = next(f, None)\n",
    "        if line is None:\n",
    "            break\n",
    "        #print(line, end='')"
   ]
  },
  {
   "cell_type": "markdown",
   "metadata": {},
   "source": [
    "由于open对象可以直接调用next函数，故open对象是 **Iterator(迭代器)**  \n",
    "检验如下"
   ]
  },
  {
   "cell_type": "code",
   "execution_count": 15,
   "metadata": {
    "collapsed": false
   },
   "outputs": [
    {
     "name": "stdout",
     "output_type": "stream",
     "text": [
      "<class '_io.TextIOWrapper'>\n",
      "True\n"
     ]
    }
   ],
   "source": [
    "from collections import Iterator\n",
    "with open('test') as f:\n",
    "    print(type(f))\n",
    "    print(isinstance(f, Iterator))"
   ]
  },
  {
   "cell_type": "markdown",
   "metadata": {},
   "source": [
    "### 个人理解\n",
    "凡是可以直接使用 `for` 循环的对象统称为 **Iterable(可迭代对象)**  \n",
    "凡是可以被 `next()` 函数调用并不断返回下一个值的对象称为 **Iterator(迭代器)**  \n",
    "将列表生成式的`[]`替换成`()`，就是一个 **generator(生成器)**  \n",
    "使用`yield`返回的函数叫做 **generator function**  \n",
    "**generator(生成器)**和**generator function**都是**Iterator(迭代器)**\n",
    "  \n",
    "非**Iterator(迭代器)**的**Iterable(可迭代对象)**，可以通过`iter()`函数获得一个**Iterator(迭代器)**对象\n",
    "  \n",
    "**Iterator(迭代器)**对象被 `next()` 函数调用并不断返回下一个数据，直到没有数据时抛出`StopIteration`错误\n",
    " "
   ]
  },
  {
   "cell_type": "markdown",
   "metadata": {},
   "source": [
    "### Discussion  \n",
    "大多数情况下，使用 for 循环语句遍历一个可迭代对象。但有些时候"
   ]
  },
  {
   "cell_type": "markdown",
   "metadata": {},
   "source": [
    "## 4.2 Delegating Iteration(代理迭代)  \n",
    "### Problem  \n",
    "A custom container object that internally holds a list, tuple, or some other iterable.\n"
   ]
  },
  {
   "cell_type": "code",
   "execution_count": 14,
   "metadata": {
    "collapsed": false
   },
   "outputs": [
    {
     "name": "stdout",
     "output_type": "stream",
     "text": [
      "Node(1)\n",
      "Node(2)\n",
      "a str\n"
     ]
    }
   ],
   "source": [
    "class Node:\n",
    "    def __init__(self, value):\n",
    "        self._value = value\n",
    "        self._children = []\n",
    "        \n",
    "    def __repr__(self):\n",
    "        return 'Node({!r})'.format(self._value)\n",
    "    \n",
    "    def add_child(self, node):\n",
    "        self._children.append(node)\n",
    "        \n",
    "    def __iter__(self):\n",
    "        return iter(self._children)\n",
    "    \n",
    "if __name__ == '__main__':\n",
    "    root = Node(0)\n",
    "    child1 = Node(1)\n",
    "    child2 = Node(2)\n",
    "    root.add_child(child1)\n",
    "    root.add_child(child2)\n",
    "    root.add_child('a str')\n",
    "    \n",
    "    for ch in root:\n",
    "        print(ch)"
   ]
  },
  {
   "cell_type": "markdown",
   "metadata": {},
   "source": [
    "在上面代码中， `__iter__()`方法只是简单的将迭代请求传给内部的`_children`属性。  \n",
    "### 个人理解  \n",
    "类中的`__iter()__`方法是类在使用迭代方法的的时候调用的\n",
    "`iter(s)`函数将对象s变成**Iterator(迭代器)**，`iter(self._children)`从类中的`self._children`list对象获取Iterator  \n",
    "当对class使用迭代方法时，实际上调用的是`self._children`list的Iterator对象\n"
   ]
  },
  {
   "cell_type": "code",
   "execution_count": null,
   "metadata": {
    "collapsed": true
   },
   "outputs": [],
   "source": []
  }
 ],
 "metadata": {
  "kernelspec": {
   "display_name": "Python 3",
   "language": "python",
   "name": "python3"
  },
  "language_info": {
   "codemirror_mode": {
    "name": "ipython",
    "version": 3
   },
   "file_extension": ".py",
   "mimetype": "text/x-python",
   "name": "python",
   "nbconvert_exporter": "python",
   "pygments_lexer": "ipython3",
   "version": "3.4.4"
  }
 },
 "nbformat": 4,
 "nbformat_minor": 0
}
