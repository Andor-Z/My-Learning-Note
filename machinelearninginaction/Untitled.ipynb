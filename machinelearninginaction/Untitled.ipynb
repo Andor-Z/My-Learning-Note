{
 "cells": [
  {
   "cell_type": "code",
   "execution_count": 45,
   "metadata": {
    "collapsed": true
   },
   "outputs": [],
   "source": [
    "import numpy as np\n",
    "import operator\n",
    "\n",
    "\n",
    "def creat_dataset():\n",
    "    group = np.array([[1.0, 1.1], [1.0, 1.0], [0, 0], [0, 0.1]])\n",
    "    labels = ['A','A', 'B', 'B']\n",
    "    return group, labels\n",
    "\n",
    "def classify0(inX, dataSet, labels, k):\n",
    "    dataSetSize = dataSet.shape[0]\n",
    "    # training example called dataSet\n",
    "    diffMat = np.tile(inX, (dataSetSize, 1)) - dataSet\n",
    "    # X是a*b的矩阵，np.tile（X, (m, n))  是将X复制为a*m行，b*n列的矩阵\n",
    "    # 维数不一致怎么减\n",
    "    sqDiffMat = diffMat ** 2\n",
    "    sqDistance = sqDiffMat.sum(axis = 1)\n",
    "    # array.sum(axis=1)按行累加，axis=0为按列累加\n",
    "    distance = sqDistance ** 0.5\n",
    "    sortedDistIndicies = distance.argsort()\n",
    "    # argsort()是numpy中的方法，得到矩阵中每个元素的排序序号\n",
    "    # A=array.argsort()  A[0]表示排序后 排在第一个的那个数在原来数组中的下标\n",
    "    classCount = {} \n",
    "    for i in range(k):\n",
    "        voteIlabel = labels[sortedDistIndicies[i]]\n",
    "        classCount[voteIlabel] = classCount.get(voteIlabel, 0) + 1 \n",
    "    sortedClassCount = sorted(classCount.iteritems(), key = operator.itemgetter(1), reverse = True)\n",
    "    return sortedClassCount[0][0]\n",
    "\n",
    "\n",
    "def file_to_matrix(filename):\n",
    "    '''\n",
    "    输入文本文件，输出training example matrix 和 label 向量\n",
    "    将文本转换为NumPy\n",
    "    '''\n",
    "    fr = open(filename)\n",
    "    arrayOLines = fr.readlines()\n",
    "    linesNumb = len(arrayOLines)\n",
    "    traMat = np.zeros((linesNumb, 3))\n",
    "    classLabelVector = []\n",
    "    index = 0 \n",
    "    for line in arrayOLines:\n",
    "        line = line.strip()\n",
    "        # 移除字符串头尾指定的字符（默认为空格）,这里主要去掉回车符\n",
    "        listFromLine = line.split('\\t')\n",
    "        traMat[index,:] = listFromLine[0:3]\n",
    "        classLabelVector.append(int(listFromLine[-1]))\n",
    "        index += 1\n",
    "    return traMat, classLabelVector"
   ]
  },
  {
   "cell_type": "code",
   "execution_count": 46,
   "metadata": {
    "collapsed": true
   },
   "outputs": [],
   "source": [
    "mat, label = file_to_matrix(r'D:\\GitHub\\Python-note\\machinelearninginaction\\Ch02\\datingTestSet2.txt')"
   ]
  },
  {
   "cell_type": "code",
   "execution_count": 47,
   "metadata": {
    "collapsed": false
   },
   "outputs": [
    {
     "data": {
      "text/plain": [
       "array([[  4.09200000e+04,   8.32697600e+00,   9.53952000e-01],\n",
       "       [  1.44880000e+04,   7.15346900e+00,   1.67390400e+00],\n",
       "       [  2.60520000e+04,   1.44187100e+00,   8.05124000e-01],\n",
       "       ..., \n",
       "       [  2.65750000e+04,   1.06501020e+01,   8.66627000e-01],\n",
       "       [  4.81110000e+04,   9.13452800e+00,   7.28045000e-01],\n",
       "       [  4.37570000e+04,   7.88260100e+00,   1.33244600e+00]])"
      ]
     },
     "execution_count": 47,
     "metadata": {},
     "output_type": "execute_result"
    }
   ],
   "source": []
  },
  {
   "cell_type": "code",
   "execution_count": 65,
   "metadata": {
    "collapsed": false
   },
   "outputs": [
    {
     "data": {
      "text/plain": [
       "array([  9.12730000e+04,   2.09193490e+01,   1.69551700e+00])"
      ]
     },
     "execution_count": 65,
     "metadata": {},
     "output_type": "execute_result"
    }
   ],
   "source": [
    "mat.max(0)"
   ]
  },
  {
   "cell_type": "code",
   "execution_count": 59,
   "metadata": {
    "collapsed": false
   },
   "outputs": [
    {
     "name": "stdout",
     "output_type": "stream",
     "text": [
      "Using matplotlib backend: TkAgg\n"
     ]
    }
   ],
   "source": [
    "%matplotlib\n",
    "import matplotlib.pyplot as plt\n",
    "fig = plt.figure()\n",
    "# matplotlib中的图像都位于Figure对象中\n",
    "ax = fig.add_subplot(111)\n",
    "ax.scatter(mat[:,1], mat[:, 2])\n",
    "plt.show()"
   ]
  },
  {
   "cell_type": "code",
   "execution_count": 62,
   "metadata": {
    "collapsed": false
   },
   "outputs": [
    {
     "name": "stderr",
     "output_type": "stream",
     "text": [
      "C:\\Python34\\lib\\site-packages\\matplotlib\\collections.py:590: FutureWarning: elementwise comparison failed; returning scalar instead, but in the future will perform elementwise comparison\n",
      "  if self._edgecolors == str('face'):\n"
     ]
    }
   ],
   "source": [
    "fig = plt.figure()\n",
    "# matplotlib中的图像都位于Figure对象中\n",
    "ax = fig.add_subplot(111)\n",
    "# ax.scatter(mat[:,1], mat[:, 2])\n",
    "ax.scatter(mat[:,1], mat[:, 2], 15.0*np.array(label), 15.0*np.array(label))\n",
    "plt.show()"
   ]
  },
  {
   "cell_type": "code",
   "execution_count": 63,
   "metadata": {
    "collapsed": false
   },
   "outputs": [
    {
     "name": "stderr",
     "output_type": "stream",
     "text": [
      "C:\\Python34\\lib\\site-packages\\matplotlib\\collections.py:590: FutureWarning: elementwise comparison failed; returning scalar instead, but in the future will perform elementwise comparison\n",
      "  if self._edgecolors == str('face'):\n"
     ]
    }
   ],
   "source": [
    "fig = plt.figure()\n",
    "# matplotlib中的图像都位于Figure对象中\n",
    "ax = fig.add_subplot(111)\n",
    "# ax.scatter(mat[:,1], mat[:, 2])\n",
    "ax.scatter(mat[:,0], mat[:, 1], 15.0*np.array(label), 15.0*np.array(label))\n",
    "plt.show()"
   ]
  },
  {
   "cell_type": "code",
   "execution_count": 68,
   "metadata": {
    "collapsed": false
   },
   "outputs": [
    {
     "name": "stdout",
     "output_type": "stream",
     "text": [
      "D:\\GitHub\\Python-note\\machinelearninginaction\\a-note\n"
     ]
    }
   ],
   "source": [
    "cd D:\\GitHub\\Python-note\\machinelearninginaction\\a-note"
   ]
  },
  {
   "cell_type": "code",
   "execution_count": 76,
   "metadata": {
    "collapsed": true
   },
   "outputs": [],
   "source": [
    "%run -i c2-1.py"
   ]
  },
  {
   "cell_type": "code",
   "execution_count": 77,
   "metadata": {
    "collapsed": false
   },
   "outputs": [
    {
     "name": "stdout",
     "output_type": "stream",
     "text": [
      "the classifier came back with: 3, the real answer is : 3.\n",
      "the classifier came back with: 2, the real answer is : 2.\n",
      "the classifier came back with: 1, the real answer is : 1.\n",
      "the classifier came back with: 1, the real answer is : 1.\n",
      "the classifier came back with: 1, the real answer is : 1.\n",
      "the classifier came back with: 1, the real answer is : 1.\n",
      "the classifier came back with: 3, the real answer is : 3.\n",
      "the classifier came back with: 3, the real answer is : 3.\n",
      "the classifier came back with: 1, the real answer is : 1.\n",
      "the classifier came back with: 3, the real answer is : 3.\n",
      "the classifier came back with: 1, the real answer is : 1.\n",
      "the classifier came back with: 1, the real answer is : 1.\n",
      "the classifier came back with: 2, the real answer is : 2.\n",
      "the classifier came back with: 1, the real answer is : 1.\n",
      "the classifier came back with: 1, the real answer is : 1.\n",
      "the classifier came back with: 1, the real answer is : 1.\n",
      "the classifier came back with: 1, the real answer is : 1.\n",
      "the classifier came back with: 1, the real answer is : 1.\n",
      "the classifier came back with: 2, the real answer is : 2.\n",
      "the classifier came back with: 3, the real answer is : 3.\n",
      "the classifier came back with: 2, the real answer is : 2.\n",
      "the classifier came back with: 1, the real answer is : 1.\n",
      "the classifier came back with: 1, the real answer is : 2.\n",
      "the classifier came back with: 3, the real answer is : 3.\n",
      "the classifier came back with: 2, the real answer is : 2.\n",
      "the classifier came back with: 3, the real answer is : 3.\n",
      "the classifier came back with: 2, the real answer is : 2.\n",
      "the classifier came back with: 3, the real answer is : 3.\n",
      "the classifier came back with: 2, the real answer is : 2.\n",
      "the classifier came back with: 1, the real answer is : 1.\n",
      "the classifier came back with: 3, the real answer is : 3.\n",
      "the classifier came back with: 1, the real answer is : 1.\n",
      "the classifier came back with: 3, the real answer is : 3.\n",
      "the classifier came back with: 1, the real answer is : 1.\n",
      "the classifier came back with: 2, the real answer is : 2.\n",
      "the classifier came back with: 1, the real answer is : 1.\n",
      "the classifier came back with: 1, the real answer is : 1.\n",
      "the classifier came back with: 2, the real answer is : 2.\n",
      "the classifier came back with: 3, the real answer is : 3.\n",
      "the classifier came back with: 3, the real answer is : 3.\n",
      "the classifier came back with: 1, the real answer is : 1.\n",
      "the classifier came back with: 2, the real answer is : 2.\n",
      "the classifier came back with: 3, the real answer is : 3.\n",
      "the classifier came back with: 3, the real answer is : 3.\n",
      "the classifier came back with: 3, the real answer is : 3.\n",
      "the classifier came back with: 1, the real answer is : 1.\n",
      "the classifier came back with: 1, the real answer is : 1.\n",
      "the classifier came back with: 1, the real answer is : 1.\n",
      "the classifier came back with: 1, the real answer is : 1.\n",
      "the classifier came back with: 2, the real answer is : 2.\n",
      "the classifier came back with: 2, the real answer is : 2.\n",
      "the classifier came back with: 1, the real answer is : 1.\n",
      "the classifier came back with: 3, the real answer is : 3.\n",
      "the classifier came back with: 2, the real answer is : 2.\n",
      "the classifier came back with: 2, the real answer is : 2.\n",
      "the classifier came back with: 2, the real answer is : 2.\n",
      "the classifier came back with: 2, the real answer is : 2.\n",
      "the classifier came back with: 3, the real answer is : 3.\n",
      "the classifier came back with: 1, the real answer is : 1.\n",
      "the classifier came back with: 2, the real answer is : 2.\n",
      "the classifier came back with: 1, the real answer is : 1.\n",
      "the classifier came back with: 2, the real answer is : 2.\n",
      "the classifier came back with: 2, the real answer is : 2.\n",
      "the classifier came back with: 2, the real answer is : 2.\n",
      "the classifier came back with: 2, the real answer is : 2.\n",
      "the classifier came back with: 2, the real answer is : 2.\n",
      "the classifier came back with: 3, the real answer is : 3.\n",
      "the classifier came back with: 2, the real answer is : 2.\n",
      "the classifier came back with: 3, the real answer is : 3.\n",
      "the classifier came back with: 1, the real answer is : 1.\n",
      "the classifier came back with: 2, the real answer is : 2.\n",
      "the classifier came back with: 3, the real answer is : 3.\n",
      "the classifier came back with: 2, the real answer is : 2.\n",
      "the classifier came back with: 2, the real answer is : 2.\n",
      "the classifier came back with: 3, the real answer is : 1.\n",
      "the classifier came back with: 3, the real answer is : 3.\n",
      "the classifier came back with: 1, the real answer is : 1.\n",
      "the classifier came back with: 1, the real answer is : 1.\n",
      "the classifier came back with: 3, the real answer is : 3.\n",
      "the classifier came back with: 3, the real answer is : 3.\n",
      "the classifier came back with: 1, the real answer is : 1.\n",
      "the classifier came back with: 2, the real answer is : 2.\n",
      "the classifier came back with: 3, the real answer is : 3.\n",
      "the classifier came back with: 3, the real answer is : 1.\n",
      "the classifier came back with: 3, the real answer is : 3.\n",
      "the classifier came back with: 1, the real answer is : 1.\n",
      "the classifier came back with: 2, the real answer is : 2.\n",
      "the classifier came back with: 2, the real answer is : 2.\n",
      "the classifier came back with: 1, the real answer is : 1.\n",
      "the classifier came back with: 1, the real answer is : 1.\n",
      "the classifier came back with: 3, the real answer is : 3.\n",
      "the classifier came back with: 2, the real answer is : 3.\n",
      "the classifier came back with: 1, the real answer is : 1.\n",
      "the classifier came back with: 2, the real answer is : 2.\n",
      "the classifier came back with: 1, the real answer is : 1.\n",
      "the classifier came back with: 3, the real answer is : 3.\n",
      "the classifier came back with: 3, the real answer is : 3.\n",
      "the classifier came back with: 2, the real answer is : 2.\n",
      "the classifier came back with: 1, the real answer is : 1.\n",
      "the classifier came back with: 3, the real answer is : 1.\n",
      "the total error rate is: 0.050000.\n"
     ]
    }
   ],
   "source": [
    "dating_class_test()"
   ]
  }
 ],
 "metadata": {
  "kernelspec": {
   "display_name": "Python 3",
   "language": "python",
   "name": "python3"
  },
  "language_info": {
   "codemirror_mode": {
    "name": "ipython",
    "version": 3
   },
   "file_extension": ".py",
   "mimetype": "text/x-python",
   "name": "python",
   "nbconvert_exporter": "python",
   "pygments_lexer": "ipython3",
   "version": "3.4.4"
  }
 },
 "nbformat": 4,
 "nbformat_minor": 0
}
